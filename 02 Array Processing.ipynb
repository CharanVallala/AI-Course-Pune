{
 "cells": [
  {
   "cell_type": "code",
   "execution_count": 1,
   "id": "c8eebfd8-cef2-44f4-9553-3a55c187d49c",
   "metadata": {},
   "outputs": [],
   "source": [
    "import numpy as np"
   ]
  },
  {
   "cell_type": "markdown",
   "id": "46e9e484-9738-44a2-8fec-c496d37e103e",
   "metadata": {},
   "source": [
    "Create the array"
   ]
  },
  {
   "cell_type": "code",
   "execution_count": 2,
   "id": "58b09caf-c417-4a00-8b1c-2cfe69a952db",
   "metadata": {},
   "outputs": [],
   "source": [
    "x = np.array([56,12,34,54,6,33,54])"
   ]
  },
  {
   "cell_type": "code",
   "execution_count": 3,
   "id": "6c3bbefb-fbf8-4e3e-9e7f-8b2acb35d65a",
   "metadata": {},
   "outputs": [
    {
     "name": "stdout",
     "output_type": "stream",
     "text": [
      "[56 12 34 54  6 33 54]\n"
     ]
    }
   ],
   "source": [
    "print(x)"
   ]
  },
  {
   "cell_type": "code",
   "execution_count": 4,
   "id": "e562b74e-d60a-49b7-9f22-6e87eec52b1d",
   "metadata": {},
   "outputs": [
    {
     "data": {
      "text/plain": [
       "numpy.ndarray"
      ]
     },
     "execution_count": 4,
     "metadata": {},
     "output_type": "execute_result"
    }
   ],
   "source": [
    "type(x)"
   ]
  },
  {
   "cell_type": "code",
   "execution_count": 7,
   "id": "9faebe43-c0a7-4113-87fa-95cc2141b69d",
   "metadata": {},
   "outputs": [
    {
     "data": {
      "text/plain": [
       "1"
      ]
     },
     "execution_count": 7,
     "metadata": {},
     "output_type": "execute_result"
    }
   ],
   "source": [
    "x.ndim #gives dimension"
   ]
  },
  {
   "cell_type": "code",
   "execution_count": 8,
   "id": "de50c754-333a-4026-9532-85d708540d6e",
   "metadata": {},
   "outputs": [
    {
     "data": {
      "text/plain": [
       "array([56, 12, 34, 54,  6, 33, 54])"
      ]
     },
     "execution_count": 8,
     "metadata": {},
     "output_type": "execute_result"
    }
   ],
   "source": [
    "x"
   ]
  },
  {
   "cell_type": "code",
   "execution_count": 9,
   "id": "39729465-9cd5-42ab-b619-bb629bf9032b",
   "metadata": {},
   "outputs": [
    {
     "data": {
      "text/plain": [
       "dtype('int32')"
      ]
     },
     "execution_count": 9,
     "metadata": {},
     "output_type": "execute_result"
    }
   ],
   "source": [
    "x.dtype"
   ]
  },
  {
   "cell_type": "code",
   "execution_count": 12,
   "id": "6224c64f-ec3d-4502-b2df-dca567e29651",
   "metadata": {},
   "outputs": [],
   "source": [
    "x = np.array([56,12,34,54,6,33,54], dtype = np.int8)"
   ]
  },
  {
   "cell_type": "code",
   "execution_count": 13,
   "id": "e3d017a8-e126-406b-bfb4-54087b00040f",
   "metadata": {},
   "outputs": [
    {
     "data": {
      "text/plain": [
       "array([56, 12, 34, 54,  6, 33, 54], dtype=int8)"
      ]
     },
     "execution_count": 13,
     "metadata": {},
     "output_type": "execute_result"
    }
   ],
   "source": [
    "x"
   ]
  },
  {
   "cell_type": "code",
   "execution_count": 15,
   "id": "e28e4a03-297a-48cd-b354-c76371904ca6",
   "metadata": {},
   "outputs": [
    {
     "name": "stderr",
     "output_type": "stream",
     "text": [
      "C:\\Users\\rajesh\\AppData\\Local\\Temp\\ipykernel_3304\\483426161.py:1: DeprecationWarning: NumPy will stop allowing conversion of out-of-bound Python integers to integer arrays.  The conversion of 128 to int8 will fail in the future.\n",
      "For the old behavior, usually:\n",
      "    np.array(value).astype(dtype)\n",
      "will give the desired result (the cast overflows).\n",
      "  x = np.array([56,12,34,54,6,33,128], dtype = np.int8)\n"
     ]
    }
   ],
   "source": [
    "x = np.array([56,12,34,54,6,33,128], dtype = np.int8)"
   ]
  },
  {
   "cell_type": "code",
   "execution_count": 21,
   "id": "a456997a-384e-422b-bd9a-358c38ae8632",
   "metadata": {},
   "outputs": [],
   "source": [
    "x = np.array([56,12,34,54,6,33,128], dtype = np.int64)"
   ]
  },
  {
   "cell_type": "code",
   "execution_count": 19,
   "id": "46f0a183-8c57-4dc7-a9ac-7f2f427dec1c",
   "metadata": {},
   "outputs": [
    {
     "data": {
      "text/plain": [
       "dtype('int64')"
      ]
     },
     "execution_count": 19,
     "metadata": {},
     "output_type": "execute_result"
    }
   ],
   "source": [
    "x.dtype"
   ]
  },
  {
   "cell_type": "code",
   "execution_count": 22,
   "id": "361a4264-1cb3-4452-98f2-d4f0c96f5923",
   "metadata": {},
   "outputs": [
    {
     "data": {
      "text/plain": [
       "7"
      ]
     },
     "execution_count": 22,
     "metadata": {},
     "output_type": "execute_result"
    }
   ],
   "source": [
    "x.size"
   ]
  },
  {
   "cell_type": "code",
   "execution_count": 23,
   "id": "f076e5e9-2ed1-47fc-85e0-7570a0e49d03",
   "metadata": {},
   "outputs": [
    {
     "data": {
      "text/plain": [
       "(7,)"
      ]
     },
     "execution_count": 23,
     "metadata": {},
     "output_type": "execute_result"
    }
   ],
   "source": [
    "x.shape"
   ]
  },
  {
   "cell_type": "code",
   "execution_count": 25,
   "id": "78185b65-7dc7-4699-b65f-fa02fd0faf99",
   "metadata": {},
   "outputs": [
    {
     "data": {
      "text/plain": [
       "6"
      ]
     },
     "execution_count": 25,
     "metadata": {},
     "output_type": "execute_result"
    }
   ],
   "source": [
    "x.min()"
   ]
  },
  {
   "cell_type": "code",
   "execution_count": 27,
   "id": "3ef64b9b-c4f6-4c7d-bfae-db0b90252198",
   "metadata": {},
   "outputs": [
    {
     "data": {
      "text/plain": [
       "array([  6,  12,  33,  34,  54,  56, 128], dtype=int64)"
      ]
     },
     "execution_count": 27,
     "metadata": {},
     "output_type": "execute_result"
    }
   ],
   "source": [
    "x.sort\n",
    "x"
   ]
  },
  {
   "cell_type": "code",
   "execution_count": 28,
   "id": "50d43199-3ec8-4cd1-8bd1-606129d2fad8",
   "metadata": {},
   "outputs": [
    {
     "data": {
      "text/plain": [
       "37.71482683594486"
      ]
     },
     "execution_count": 28,
     "metadata": {},
     "output_type": "execute_result"
    }
   ],
   "source": [
    "x.std()"
   ]
  },
  {
   "cell_type": "code",
   "execution_count": 29,
   "id": "0520b781-0ff6-453e-b23e-25e184772f6e",
   "metadata": {},
   "outputs": [
    {
     "data": {
      "text/plain": [
       "(array([0, 1, 2, 3, 4, 5, 6], dtype=int64),)"
      ]
     },
     "execution_count": 29,
     "metadata": {},
     "output_type": "execute_result"
    }
   ],
   "source": [
    "x.nonzero()"
   ]
  },
  {
   "cell_type": "code",
   "execution_count": 36,
   "id": "e195f805-4c57-490e-abc4-7f854c6fffdc",
   "metadata": {},
   "outputs": [],
   "source": [
    "y = np.array([1,2,3,4.5,66,77])"
   ]
  },
  {
   "cell_type": "code",
   "execution_count": 38,
   "id": "064b9c0f-4d25-4878-b931-7b3f00fd4d13",
   "metadata": {},
   "outputs": [
    {
     "data": {
      "text/plain": [
       "dtype('float64')"
      ]
     },
     "execution_count": 38,
     "metadata": {},
     "output_type": "execute_result"
    }
   ],
   "source": [
    "y.dtype"
   ]
  },
  {
   "cell_type": "code",
   "execution_count": 39,
   "id": "875bf1eb-8e27-4ee3-9fdc-cccd919be5b2",
   "metadata": {},
   "outputs": [
    {
     "data": {
      "text/plain": [
       "array([ 1. ,  2. ,  3. ,  4.5, 66. , 77. ])"
      ]
     },
     "execution_count": 39,
     "metadata": {},
     "output_type": "execute_result"
    }
   ],
   "source": [
    "y"
   ]
  },
  {
   "cell_type": "code",
   "execution_count": 40,
   "id": "75ad562a-78e2-4f92-9104-ec5dd04693d9",
   "metadata": {},
   "outputs": [],
   "source": [
    "z = np.array([1,2,3,4.5,66,True])"
   ]
  },
  {
   "cell_type": "code",
   "execution_count": 41,
   "id": "364e3d57-ab11-4702-8448-0ebc52790bbe",
   "metadata": {},
   "outputs": [
    {
     "data": {
      "text/plain": [
       "dtype('float64')"
      ]
     },
     "execution_count": 41,
     "metadata": {},
     "output_type": "execute_result"
    }
   ],
   "source": [
    "z.dtype"
   ]
  },
  {
   "cell_type": "code",
   "execution_count": 42,
   "id": "988fd6fa-fd16-4fdf-bbd6-11e8c52163ae",
   "metadata": {},
   "outputs": [
    {
     "data": {
      "text/plain": [
       "array([ 1. ,  2. ,  3. ,  4.5, 66. ,  1. ])"
      ]
     },
     "execution_count": 42,
     "metadata": {},
     "output_type": "execute_result"
    }
   ],
   "source": [
    "z"
   ]
  },
  {
   "cell_type": "code",
   "execution_count": 43,
   "id": "3727c69c-f571-4a82-8242-a3ea875beeb4",
   "metadata": {},
   "outputs": [],
   "source": [
    "z = np.array([1,2,3,4.5,66,'True'])"
   ]
  },
  {
   "cell_type": "code",
   "execution_count": 44,
   "id": "eec8a333-d115-4377-8bbe-c9889f3a5b2f",
   "metadata": {},
   "outputs": [
    {
     "data": {
      "text/plain": [
       "array(['1', '2', '3', '4.5', '66', 'True'], dtype='<U32')"
      ]
     },
     "execution_count": 44,
     "metadata": {},
     "output_type": "execute_result"
    }
   ],
   "source": [
    "z"
   ]
  },
  {
   "cell_type": "code",
   "execution_count": 47,
   "id": "69e913c9-c22c-4acd-9fbb-97f9c019dee0",
   "metadata": {},
   "outputs": [
    {
     "data": {
      "text/plain": [
       "dtype('<U32')"
      ]
     },
     "execution_count": 47,
     "metadata": {},
     "output_type": "execute_result"
    }
   ],
   "source": [
    "z.dtype"
   ]
  },
  {
   "cell_type": "code",
   "execution_count": 48,
   "id": "6b7eb92a-d518-4636-a702-f70b30dcf58d",
   "metadata": {},
   "outputs": [],
   "source": [
    "p = 'charan'"
   ]
  },
  {
   "cell_type": "code",
   "execution_count": 49,
   "id": "c1ead2d3-8b74-4e0c-a5e5-4fdb56142da8",
   "metadata": {},
   "outputs": [
    {
     "ename": "AttributeError",
     "evalue": "'str' object has no attribute 'dtype'",
     "output_type": "error",
     "traceback": [
      "\u001b[1;31m---------------------------------------------------------------------------\u001b[0m",
      "\u001b[1;31mAttributeError\u001b[0m                            Traceback (most recent call last)",
      "Cell \u001b[1;32mIn[49], line 1\u001b[0m\n\u001b[1;32m----> 1\u001b[0m p\u001b[38;5;241m.\u001b[39mdtype\n",
      "\u001b[1;31mAttributeError\u001b[0m: 'str' object has no attribute 'dtype'"
     ]
    }
   ],
   "source": [
    "p.dtype"
   ]
  },
  {
   "cell_type": "markdown",
   "id": "8df0753c-d49c-4e0c-9f31-108ab84a5a59",
   "metadata": {},
   "source": [
    "q = np.zeroes(10, dtype=np.int16)\n",
    "q"
   ]
  },
  {
   "cell_type": "code",
   "execution_count": 52,
   "id": "31bf375c-ff80-4757-aeb1-f8b504deda62",
   "metadata": {},
   "outputs": [
    {
     "data": {
      "text/plain": [
       "array([1, 1, 1, 1, 1, 1, 1, 1, 1, 1], dtype=int16)"
      ]
     },
     "execution_count": 52,
     "metadata": {},
     "output_type": "execute_result"
    }
   ],
   "source": [
    "q = np.ones(10, dtype=np.int16)\n",
    "q"
   ]
  },
  {
   "cell_type": "code",
   "execution_count": 54,
   "id": "426a1621-cb2f-40b5-8c61-026d6d08c490",
   "metadata": {},
   "outputs": [
    {
     "data": {
      "text/plain": [
       "array([0, 0, 0, 0, 0, 0, 0, 0, 0, 0], dtype=int16)"
      ]
     },
     "execution_count": 54,
     "metadata": {},
     "output_type": "execute_result"
    }
   ],
   "source": [
    "q = np.zeros(10, dtype=np.int16)\n",
    "q"
   ]
  },
  {
   "cell_type": "code",
   "execution_count": 55,
   "id": "18e69b1d-c9c3-49a2-97b7-5716f70ba4d4",
   "metadata": {},
   "outputs": [
    {
     "data": {
      "text/plain": [
       "array([0, 1, 2, 3, 4, 5, 6, 7, 8, 9])"
      ]
     },
     "execution_count": 55,
     "metadata": {},
     "output_type": "execute_result"
    }
   ],
   "source": [
    "np.arange(10)"
   ]
  },
  {
   "cell_type": "code",
   "execution_count": 56,
   "id": "c4d6ed38-95b7-403e-8b05-edb25d68f652",
   "metadata": {},
   "outputs": [
    {
     "data": {
      "text/plain": [
       "array([5, 6, 7, 8, 9])"
      ]
     },
     "execution_count": 56,
     "metadata": {},
     "output_type": "execute_result"
    }
   ],
   "source": [
    "np.arange(5,10)"
   ]
  },
  {
   "cell_type": "code",
   "execution_count": 57,
   "id": "806bb3b8-f084-4254-a6fc-7c15d3fe8903",
   "metadata": {},
   "outputs": [
    {
     "data": {
      "text/plain": [
       "array([5.  , 5.33, 5.66, 5.99, 6.32, 6.65, 6.98, 7.31, 7.64, 7.97, 8.3 ,\n",
       "       8.63, 8.96, 9.29, 9.62, 9.95])"
      ]
     },
     "execution_count": 57,
     "metadata": {},
     "output_type": "execute_result"
    }
   ],
   "source": [
    "np.arange(5,10,0.33)"
   ]
  },
  {
   "cell_type": "code",
   "execution_count": 59,
   "id": "790eee5e-38bc-400e-8017-f364542a0f29",
   "metadata": {},
   "outputs": [
    {
     "data": {
      "text/plain": [
       "array([ 1. ,  3.5,  6. ,  8.5, 11. ])"
      ]
     },
     "execution_count": 59,
     "metadata": {},
     "output_type": "execute_result"
    }
   ],
   "source": [
    "np.linspace(1,11,5)"
   ]
  },
  {
   "cell_type": "markdown",
   "id": "16e570ec-2c68-4f39-8c7a-d7d904d9af09",
   "metadata": {},
   "source": [
    "Array Operations"
   ]
  },
  {
   "cell_type": "code",
   "execution_count": 61,
   "id": "798d8630-f282-498d-9984-2cd6302099b0",
   "metadata": {},
   "outputs": [],
   "source": [
    "num1 = np.array([34,5,24,5,8,33])\n",
    "num2 = np.array([45,56,24,5,77,2])"
   ]
  },
  {
   "cell_type": "code",
   "execution_count": 62,
   "id": "d5b99a27-5ba0-49e9-aa72-ba86b01da6ad",
   "metadata": {},
   "outputs": [
    {
     "data": {
      "text/plain": [
       "array([44, 15, 34, 15, 18, 43])"
      ]
     },
     "execution_count": 62,
     "metadata": {},
     "output_type": "execute_result"
    }
   ],
   "source": [
    "num1 + 10"
   ]
  },
  {
   "cell_type": "code",
   "execution_count": 63,
   "id": "c8a04241-c927-42cd-af99-a8d5544ea7d8",
   "metadata": {},
   "outputs": [
    {
     "data": {
      "text/plain": [
       "array([ 9. , 11.2,  4.8,  1. , 15.4,  0.4])"
      ]
     },
     "execution_count": 63,
     "metadata": {},
     "output_type": "execute_result"
    }
   ],
   "source": [
    "num2 / 5"
   ]
  },
  {
   "cell_type": "code",
   "execution_count": 64,
   "id": "8065427f-8068-49c9-a276-b37c90743c7c",
   "metadata": {},
   "outputs": [
    {
     "data": {
      "text/plain": [
       "[45, 53, 24, 23, 32, 45, 53, 24, 23, 32, 45, 53, 24, 23, 32]"
      ]
     },
     "execution_count": 64,
     "metadata": {},
     "output_type": "execute_result"
    }
   ],
   "source": [
    "[45,53,24,23,32] * 3"
   ]
  },
  {
   "cell_type": "code",
   "execution_count": 65,
   "id": "e044ff5c-d31e-4599-a6e1-cbcd3d5d143e",
   "metadata": {},
   "outputs": [
    {
     "data": {
      "text/plain": [
       "array([79, 61, 48, 10, 85, 35])"
      ]
     },
     "execution_count": 65,
     "metadata": {},
     "output_type": "execute_result"
    }
   ],
   "source": [
    "num1 + num2"
   ]
  },
  {
   "cell_type": "markdown",
   "id": "29f0d97a-5e52-4272-8520-6085cff249ed",
   "metadata": {},
   "source": [
    "Matrix"
   ]
  },
  {
   "cell_type": "code",
   "execution_count": 82,
   "id": "7e0e082e-f782-42a7-be8b-133d1691144b",
   "metadata": {},
   "outputs": [
    {
     "data": {
      "text/plain": [
       "array([[4, 5, 6],\n",
       "       [3, 4, 5],\n",
       "       [1, 2, 3],\n",
       "       [7, 8, 9]])"
      ]
     },
     "execution_count": 82,
     "metadata": {},
     "output_type": "execute_result"
    }
   ],
   "source": [
    "M = np.array([[4,5,6],[3,4,5],[1,2,3],[7,8,9]])\n",
    "M"
   ]
  },
  {
   "cell_type": "code",
   "execution_count": 68,
   "id": "ca30d7a5-90d0-4645-9a41-189e6b8979c5",
   "metadata": {},
   "outputs": [
    {
     "data": {
      "text/plain": [
       "dtype('int32')"
      ]
     },
     "execution_count": 68,
     "metadata": {},
     "output_type": "execute_result"
    }
   ],
   "source": [
    "M.dtype"
   ]
  },
  {
   "cell_type": "code",
   "execution_count": 69,
   "id": "0e53e72a-aa9e-4259-9085-c3d3a88f14a1",
   "metadata": {},
   "outputs": [
    {
     "data": {
      "text/plain": [
       "2"
      ]
     },
     "execution_count": 69,
     "metadata": {},
     "output_type": "execute_result"
    }
   ],
   "source": [
    "M.ndim"
   ]
  },
  {
   "cell_type": "code",
   "execution_count": 71,
   "id": "2550b317-27fd-4613-adfb-ffa27e5d9418",
   "metadata": {},
   "outputs": [
    {
     "data": {
      "text/plain": [
       "3"
      ]
     },
     "execution_count": 71,
     "metadata": {},
     "output_type": "execute_result"
    }
   ],
   "source": [
    "M[2,2]"
   ]
  },
  {
   "cell_type": "code",
   "execution_count": 83,
   "id": "e8d8b07c-980b-4e82-a49f-8cd9d6232dda",
   "metadata": {},
   "outputs": [
    {
     "data": {
      "text/plain": [
       "array([[5, 6],\n",
       "       [4, 5]])"
      ]
     },
     "execution_count": 83,
     "metadata": {},
     "output_type": "execute_result"
    }
   ],
   "source": [
    "M[0:2,1:3] #slicing"
   ]
  },
  {
   "cell_type": "code",
   "execution_count": 84,
   "id": "7776da7d-e781-49eb-8d3c-f4cc8367f3bf",
   "metadata": {},
   "outputs": [
    {
     "data": {
      "text/plain": [
       "array([[4, 5, 6, 3],\n",
       "       [4, 5, 1, 2],\n",
       "       [3, 7, 8, 9]])"
      ]
     },
     "execution_count": 84,
     "metadata": {},
     "output_type": "execute_result"
    }
   ],
   "source": [
    "M.reshape(3,4)"
   ]
  },
  {
   "cell_type": "code",
   "execution_count": 85,
   "id": "161f4b9b-3916-488d-8f94-9063c27032db",
   "metadata": {},
   "outputs": [],
   "source": [
    "M[0:2,1:3] = np.array([[7,8],[9,10]])"
   ]
  },
  {
   "cell_type": "code",
   "execution_count": 86,
   "id": "449f94c6-2cbe-4045-b3cb-3f141608585b",
   "metadata": {},
   "outputs": [
    {
     "data": {
      "text/plain": [
       "array([[ 4,  7,  8],\n",
       "       [ 3,  9, 10],\n",
       "       [ 1,  2,  3],\n",
       "       [ 7,  8,  9]])"
      ]
     },
     "execution_count": 86,
     "metadata": {},
     "output_type": "execute_result"
    }
   ],
   "source": [
    "M"
   ]
  },
  {
   "cell_type": "code",
   "execution_count": 88,
   "id": "57531ff8-efbc-46e4-9cbe-66fc14a6a9b5",
   "metadata": {},
   "outputs": [
    {
     "data": {
      "text/plain": [
       "array([[ 4,  7,  8,  3,  9, 10],\n",
       "       [ 1,  2,  3,  7,  8,  9]])"
      ]
     },
     "execution_count": 88,
     "metadata": {},
     "output_type": "execute_result"
    }
   ],
   "source": [
    "M.reshape(2,-1) #adjusts columns accordingly"
   ]
  },
  {
   "cell_type": "code",
   "execution_count": 90,
   "id": "a874cd06-c4f8-4947-be3e-25eb695260da",
   "metadata": {},
   "outputs": [
    {
     "data": {
      "text/plain": [
       "array([ 4,  7,  8,  3,  9, 10,  1,  2,  3,  7,  8,  9])"
      ]
     },
     "execution_count": 90,
     "metadata": {},
     "output_type": "execute_result"
    }
   ],
   "source": [
    "M.reshape(-1) #makes into one dimension"
   ]
  },
  {
   "cell_type": "code",
   "execution_count": 91,
   "id": "baca96cc-4c11-4828-8335-8cd322e7c6bb",
   "metadata": {},
   "outputs": [
    {
     "data": {
      "text/plain": [
       "array([ 4,  7,  8,  3,  9, 10,  1,  2,  3,  7,  8,  9])"
      ]
     },
     "execution_count": 91,
     "metadata": {},
     "output_type": "execute_result"
    }
   ],
   "source": [
    "M.flatten()"
   ]
  },
  {
   "cell_type": "code",
   "execution_count": 92,
   "id": "8feccc39-1247-4b5f-9822-9ce9634ac62f",
   "metadata": {},
   "outputs": [
    {
     "data": {
      "text/plain": [
       "array([[ 4,  3,  1,  7],\n",
       "       [ 7,  9,  2,  8],\n",
       "       [ 8, 10,  3,  9]])"
      ]
     },
     "execution_count": 92,
     "metadata": {},
     "output_type": "execute_result"
    }
   ],
   "source": [
    "M.T"
   ]
  },
  {
   "cell_type": "code",
   "execution_count": 93,
   "id": "b7f82a05-e0c9-44cf-9ec1-40871d672d3b",
   "metadata": {},
   "outputs": [
    {
     "name": "stdout",
     "output_type": "stream",
     "text": [
      "Help on built-in function min:\n",
      "\n",
      "min(...) method of numpy.ndarray instance\n",
      "    a.min(axis=None, out=None, keepdims=False, initial=<no value>, where=True)\n",
      "    \n",
      "    Return the minimum along a given axis.\n",
      "    \n",
      "    Refer to `numpy.amin` for full documentation.\n",
      "    \n",
      "    See Also\n",
      "    --------\n",
      "    numpy.amin : equivalent function\n",
      "\n"
     ]
    }
   ],
   "source": [
    "help(M.min)"
   ]
  },
  {
   "cell_type": "code",
   "execution_count": 94,
   "id": "7ae64dc4-91d2-4d63-b2b4-527a93203ea0",
   "metadata": {},
   "outputs": [
    {
     "data": {
      "text/plain": [
       "1"
      ]
     },
     "execution_count": 94,
     "metadata": {},
     "output_type": "execute_result"
    }
   ],
   "source": [
    "M.min()"
   ]
  },
  {
   "cell_type": "code",
   "execution_count": 95,
   "id": "d7758ca8-3b87-40aa-beaa-510a556f36bc",
   "metadata": {},
   "outputs": [
    {
     "data": {
      "text/plain": [
       "array([1, 2, 3])"
      ]
     },
     "execution_count": 95,
     "metadata": {},
     "output_type": "execute_result"
    }
   ],
   "source": [
    "M.min(axis=0) #row by row"
   ]
  },
  {
   "cell_type": "code",
   "execution_count": 96,
   "id": "d7fc562e-9bd2-433c-b094-bb743dc1c824",
   "metadata": {},
   "outputs": [
    {
     "data": {
      "text/plain": [
       "array([4, 3, 1, 7])"
      ]
     },
     "execution_count": 96,
     "metadata": {},
     "output_type": "execute_result"
    }
   ],
   "source": [
    "M.min(axis=1) #col by col"
   ]
  },
  {
   "cell_type": "code",
   "execution_count": 97,
   "id": "0b2d04a0-f3c4-433a-b49e-bcc625d0bd1d",
   "metadata": {},
   "outputs": [
    {
     "data": {
      "text/plain": [
       "array([15, 26, 30])"
      ]
     },
     "execution_count": 97,
     "metadata": {},
     "output_type": "execute_result"
    }
   ],
   "source": [
    "M.sum(axis=0)"
   ]
  },
  {
   "cell_type": "code",
   "execution_count": 98,
   "id": "9aa2fa5e-7b34-40c5-a28e-cd2ba1691ab9",
   "metadata": {},
   "outputs": [
    {
     "data": {
      "text/plain": [
       "array([[ 1. ,  2. ],\n",
       "       [ 3. ,  4.5],\n",
       "       [66. , 77. ]])"
      ]
     },
     "execution_count": 98,
     "metadata": {},
     "output_type": "execute_result"
    }
   ],
   "source": [
    "y.reshape(3,2)"
   ]
  },
  {
   "cell_type": "code",
   "execution_count": 100,
   "id": "de33df34-e369-47d2-b765-7ee60e03f37d",
   "metadata": {},
   "outputs": [
    {
     "data": {
      "text/plain": [
       "array([[ 4.,  7.,  8.],\n",
       "       [ 3.,  9., 10.],\n",
       "       [ 1.,  2.,  3.],\n",
       "       [ 7.,  8.,  9.]], dtype=float16)"
      ]
     },
     "execution_count": 100,
     "metadata": {},
     "output_type": "execute_result"
    }
   ],
   "source": [
    "M.astype(np.float16)"
   ]
  },
  {
   "cell_type": "code",
   "execution_count": 101,
   "id": "72ba06a8-2375-465d-89b9-726f000d1c7c",
   "metadata": {},
   "outputs": [
    {
     "data": {
      "text/plain": [
       "array([  6,  12,  33,  34,  54,  56, 128], dtype=int64)"
      ]
     },
     "execution_count": 101,
     "metadata": {},
     "output_type": "execute_result"
    }
   ],
   "source": [
    "x"
   ]
  },
  {
   "cell_type": "code",
   "execution_count": 102,
   "id": "5a073129-02c8-479e-b27f-a6b8ebe84c6c",
   "metadata": {},
   "outputs": [],
   "source": [
    "y = x"
   ]
  },
  {
   "cell_type": "code",
   "execution_count": 103,
   "id": "0abf3bf5-c80c-4965-b7fe-864778eed8ea",
   "metadata": {},
   "outputs": [
    {
     "data": {
      "text/plain": [
       "array([  6,  12,  33,  34,  54,  56, 128], dtype=int64)"
      ]
     },
     "execution_count": 103,
     "metadata": {},
     "output_type": "execute_result"
    }
   ],
   "source": [
    "y"
   ]
  },
  {
   "cell_type": "code",
   "execution_count": 104,
   "id": "19350e49-d60d-4a9b-94c7-a56b5fe71153",
   "metadata": {},
   "outputs": [],
   "source": [
    "y[0]=20"
   ]
  },
  {
   "cell_type": "code",
   "execution_count": 105,
   "id": "ffccd7aa-3606-47ca-a3cc-ebb4a45ed54a",
   "metadata": {},
   "outputs": [
    {
     "data": {
      "text/plain": [
       "array([ 20,  12,  33,  34,  54,  56, 128], dtype=int64)"
      ]
     },
     "execution_count": 105,
     "metadata": {},
     "output_type": "execute_result"
    }
   ],
   "source": [
    "y"
   ]
  },
  {
   "cell_type": "code",
   "execution_count": 106,
   "id": "87735324-3e16-46dc-8b0a-521243092da8",
   "metadata": {},
   "outputs": [
    {
     "data": {
      "text/plain": [
       "array([ 20,  12,  33,  34,  54,  56, 128], dtype=int64)"
      ]
     },
     "execution_count": 106,
     "metadata": {},
     "output_type": "execute_result"
    }
   ],
   "source": [
    "x"
   ]
  },
  {
   "cell_type": "code",
   "execution_count": 107,
   "id": "53cc8ebb-3052-4024-b11f-3914d9fc8c4e",
   "metadata": {},
   "outputs": [
    {
     "data": {
      "text/plain": [
       "2757713652752"
      ]
     },
     "execution_count": 107,
     "metadata": {},
     "output_type": "execute_result"
    }
   ],
   "source": [
    "id(y)"
   ]
  },
  {
   "cell_type": "code",
   "execution_count": 109,
   "id": "e57f4d3d-ee12-43f1-83d1-0937b605ca10",
   "metadata": {},
   "outputs": [
    {
     "data": {
      "text/plain": [
       "2757713652752"
      ]
     },
     "execution_count": 109,
     "metadata": {},
     "output_type": "execute_result"
    }
   ],
   "source": [
    "id(x) #x and y are sharing same memory location "
   ]
  },
  {
   "cell_type": "code",
   "execution_count": 110,
   "id": "7739ae8d-4a5b-432c-91ee-d6ca59cce8c6",
   "metadata": {},
   "outputs": [
    {
     "data": {
      "text/plain": [
       "array([  1,  12,  33,  34,  54,  56, 128], dtype=int64)"
      ]
     },
     "execution_count": 110,
     "metadata": {},
     "output_type": "execute_result"
    }
   ],
   "source": [
    "x[0] = 1;\n",
    "x"
   ]
  },
  {
   "cell_type": "code",
   "execution_count": 111,
   "id": "85762ce8-a0d3-467f-ad6c-ef41918ac3cd",
   "metadata": {},
   "outputs": [
    {
     "data": {
      "text/plain": [
       "array([  1,  12,  33,  34,  54,  56, 128], dtype=int64)"
      ]
     },
     "execution_count": 111,
     "metadata": {},
     "output_type": "execute_result"
    }
   ],
   "source": [
    "y = x.copy()\n",
    "y"
   ]
  },
  {
   "cell_type": "code",
   "execution_count": 112,
   "id": "148be432-6576-4a0d-b09b-9e8cca495ac8",
   "metadata": {},
   "outputs": [],
   "source": [
    "y[0]=21"
   ]
  },
  {
   "cell_type": "code",
   "execution_count": 113,
   "id": "2f53f3a9-b63c-457f-b002-70bd9ac03643",
   "metadata": {},
   "outputs": [
    {
     "data": {
      "text/plain": [
       "array([ 21,  12,  33,  34,  54,  56, 128], dtype=int64)"
      ]
     },
     "execution_count": 113,
     "metadata": {},
     "output_type": "execute_result"
    }
   ],
   "source": [
    "y"
   ]
  },
  {
   "cell_type": "code",
   "execution_count": 114,
   "id": "5ddcdfb2-53c5-4f10-926b-e3c4bf9aa2d3",
   "metadata": {},
   "outputs": [
    {
     "data": {
      "text/plain": [
       "array([  1,  12,  33,  34,  54,  56, 128], dtype=int64)"
      ]
     },
     "execution_count": 114,
     "metadata": {},
     "output_type": "execute_result"
    }
   ],
   "source": [
    "x"
   ]
  },
  {
   "cell_type": "code",
   "execution_count": 117,
   "id": "0101f52d-cc7a-4370-a5e3-7a33936afb77",
   "metadata": {},
   "outputs": [],
   "source": [
    "id(x);\n",
    "id(y);"
   ]
  },
  {
   "cell_type": "code",
   "execution_count": null,
   "id": "a18e33ed-fc63-401f-a148-ba9740a6cfc5",
   "metadata": {},
   "outputs": [],
   "source": []
  }
 ],
 "metadata": {
  "kernelspec": {
   "display_name": "Python 3 (ipykernel)",
   "language": "python",
   "name": "python3"
  },
  "language_info": {
   "codemirror_mode": {
    "name": "ipython",
    "version": 3
   },
   "file_extension": ".py",
   "mimetype": "text/x-python",
   "name": "python",
   "nbconvert_exporter": "python",
   "pygments_lexer": "ipython3",
   "version": "3.11.7"
  }
 },
 "nbformat": 4,
 "nbformat_minor": 5
}
