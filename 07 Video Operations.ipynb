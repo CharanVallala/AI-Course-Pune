{
 "cells": [
  {
   "cell_type": "code",
   "execution_count": 1,
   "id": "d1bdf8c3-d117-4619-ae7b-902be8330b29",
   "metadata": {},
   "outputs": [],
   "source": [
    "import cv2\n",
    "import matplotlib as plt"
   ]
  },
  {
   "cell_type": "code",
   "execution_count": 2,
   "id": "4e84a7df-0a05-419e-9150-601b13cfe81a",
   "metadata": {},
   "outputs": [
    {
     "data": {
      "text/plain": [
       "< cv2.VideoCapture 000001DFFA6D92F0>"
      ]
     },
     "execution_count": 2,
     "metadata": {},
     "output_type": "execute_result"
    }
   ],
   "source": [
    "vid = cv2.VideoCapture('images/robots.mp4')\n",
    "vid"
   ]
  },
  {
   "cell_type": "code",
   "execution_count": 3,
   "id": "66ed5f86-5170-4ff6-8607-9c5a87804f23",
   "metadata": {},
   "outputs": [
    {
     "data": {
      "text/plain": [
       "True"
      ]
     },
     "execution_count": 3,
     "metadata": {},
     "output_type": "execute_result"
    }
   ],
   "source": [
    "ret, frame = vid.read()\n",
    "ret"
   ]
  },
  {
   "cell_type": "code",
   "execution_count": 4,
   "id": "229c2cf4-f411-4bf9-a1c8-d05db8c092e6",
   "metadata": {},
   "outputs": [
    {
     "data": {
      "text/plain": [
       "1228800"
      ]
     },
     "execution_count": 4,
     "metadata": {},
     "output_type": "execute_result"
    }
   ],
   "source": [
    "frame.size"
   ]
  },
  {
   "cell_type": "code",
   "execution_count": 5,
   "id": "d47f2be6-2d65-40bb-b474-121df8e49d4d",
   "metadata": {},
   "outputs": [
    {
     "data": {
      "text/plain": [
       "(640, 640, 3)"
      ]
     },
     "execution_count": 5,
     "metadata": {},
     "output_type": "execute_result"
    }
   ],
   "source": [
    "frame.shape"
   ]
  },
  {
   "cell_type": "markdown",
   "id": "0ae65f4f-c308-4247-819f-f7a1e19f9b45",
   "metadata": {},
   "source": [
    "Extracting video attributes"
   ]
  },
  {
   "cell_type": "code",
   "execution_count": 6,
   "id": "7b51dea1-d8da-4678-83d5-6713af4d9812",
   "metadata": {},
   "outputs": [],
   "source": [
    "width = int(vid.get(cv2.CAP_PROP_FRAME_WIDTH))\n",
    "height = int(vid.get(cv2.CAP_PROP_FRAME_HEIGHT))\n",
    "frames = int(vid.get(cv2.CAP_PROP_FRAME_COUNT))\n",
    "fps = int(vid.get(cv2.CAP_PROP_FPS))"
   ]
  },
  {
   "cell_type": "code",
   "execution_count": 7,
   "id": "34ec3b96-4399-4020-8c16-47c38873111e",
   "metadata": {},
   "outputs": [
    {
     "name": "stdout",
     "output_type": "stream",
     "text": [
      "Video Resolution 640 640\n",
      "Total frames  1799\n",
      "FPS 30\n"
     ]
    }
   ],
   "source": [
    "print('Video Resolution',height,width)\n",
    "print('Total frames ', frames)\n",
    "print('FPS',fps)"
   ]
  },
  {
   "cell_type": "markdown",
   "id": "b7e25f54-74f7-42db-b003-f6f960c17359",
   "metadata": {},
   "source": [
    "Capturing a video frame by frame"
   ]
  },
  {
   "cell_type": "code",
   "execution_count": 8,
   "id": "db9d66a6-a9bd-4050-a71d-5a190ce040bf",
   "metadata": {},
   "outputs": [],
   "source": [
    "vid = cv2.VideoCapture('images/robots.mp4')\n",
    "while True:\n",
    "    ret, frame =  vid.read()\n",
    "    if not ret:\n",
    "        break\n",
    "    # Process the frame (e.g.apply filters, detect objects)q\n",
    "    for i in range (0,640,2):\n",
    "        for j in range (640):\n",
    "            frame[i,j] = 0\n",
    "    cv2.imshow('Video',frame)\n",
    "    if cv2.waitKey(0) == ord('q'):\n",
    "        break\n",
    "cv2.destroyAllWindows()"
   ]
  },
  {
   "cell_type": "markdown",
   "id": "1215ad0f-6728-4733-957d-4cc3fde786fd",
   "metadata": {},
   "source": [
    "Extracting frames into a folder"
   ]
  },
  {
   "cell_type": "code",
   "execution_count": 9,
   "id": "ed99fa09-1e2e-47d7-bed0-65894819ae97",
   "metadata": {},
   "outputs": [],
   "source": [
    "vid = cv2.VideoCapture('images/robots.mp4')\n",
    "#get the first frane abd see if succesful\n",
    "success, frame=vid.read()\n",
    "#initiate count\n",
    "count = 1\n",
    "#keep extracting the frame as long as success is true\n",
    "while success : \n",
    "    cv2.imwrite(f'images/robots_frames/{count}.jpg',frame)\n",
    "    success, frame = vid.read()\n",
    "    count += 1"
   ]
  },
  {
   "cell_type": "markdown",
   "id": "4443883d-5d68-4c6c-a80d-cd4dea5bb5b2",
   "metadata": {},
   "source": [
    "Getting a frame from the saved folder"
   ]
  },
  {
   "cell_type": "code",
   "execution_count": 10,
   "id": "7a8c06ff-6ebe-4d21-bbe9-8140f86a5118",
   "metadata": {},
   "outputs": [],
   "source": [
    "import cv2\n",
    "frame  =  cv2.imread('robots_frames/200.jpg')\n",
    "cv2.imshow('frame200',frame)\n",
    "cv2.waitKey(0)\n",
    "cv2.destroyAllWindows()"
   ]
  },
  {
   "cell_type": "markdown",
   "id": "ba3e15a0-0729-46ad-8104-4bd8e7cfad67",
   "metadata": {},
   "source": [
    "Extracting a frame at a instance directly from video"
   ]
  },
  {
   "cell_type": "code",
   "execution_count": 11,
   "id": "4677835a-3bec-4669-b564-a9ecb389c958",
   "metadata": {},
   "outputs": [
    {
     "name": "stdout",
     "output_type": "stream",
     "text": [
      "0.0 0.0 43.0\n"
     ]
    }
   ],
   "source": [
    "#get frame at aa specific timestamp\n",
    "timestamp = '00:00:43.00'\n",
    "hours, minutes, seconds =[float(i) for i in timestamp.split(':')]\n",
    "print(hours,minutes,seconds)"
   ]
  },
  {
   "cell_type": "code",
   "execution_count": 12,
   "id": "3fec5539-e882-4922-9f34-7b7aed7b9634",
   "metadata": {},
   "outputs": [
    {
     "name": "stdout",
     "output_type": "stream",
     "text": [
      "1799 1290.0\n"
     ]
    }
   ],
   "source": [
    "#get number of frames up to timestamp\n",
    "fps = 30\n",
    "trigger_frame = hours*3600*fps + minutes * 60 * fps + seconds * fps\n",
    "print(frames, trigger_frame)"
   ]
  },
  {
   "cell_type": "code",
   "execution_count": 15,
   "id": "d3fae1f8-2f7f-4214-98f9-d975bc39da5d",
   "metadata": {},
   "outputs": [],
   "source": [
    "# Go to frame selected by timestamp\n",
    "vid.set(1, trigger_frame)\n",
    "success, frame = vid.read()\n",
    "\n",
    "#save the frame into an image file\n",
    "if success:\n",
    "    cv2.imwrite('screen.jpg',frame)"
   ]
  },
  {
   "cell_type": "code",
   "execution_count": 16,
   "id": "e02091ad-7cfe-4f72-96cb-da80d3d44454",
   "metadata": {},
   "outputs": [
    {
     "name": "stdout",
     "output_type": "stream",
     "text": [
      "Help on built-in function set:\n",
      "\n",
      "set(...) method of cv2.VideoCapture instance\n",
      "    set(propId, value) -> retval\n",
      "    .   @brief Sets a property in the VideoCapture.\n",
      "    .   \n",
      "    .       @param propId Property identifier from cv::VideoCaptureProperties (eg. cv::CAP_PROP_POS_MSEC, cv::CAP_PROP_POS_FRAMES, ...)\n",
      "    .       or one from @ref videoio_flags_others\n",
      "    .       @param value Value of the property.\n",
      "    .       @return `true` if the property is supported by backend used by the VideoCapture instance.\n",
      "    .       @note Even if it returns `true` this doesn't ensure that the property\n",
      "    .       value has been accepted by the capture device. See note in VideoCapture::get()\n",
      "\n"
     ]
    }
   ],
   "source": [
    "help(vid.set)"
   ]
  },
  {
   "cell_type": "code",
   "execution_count": 17,
   "id": "72db45df-af57-4680-9f85-25d5d2f89ab1",
   "metadata": {},
   "outputs": [],
   "source": [
    "cap = cv2.VideoCapture(0)"
   ]
  },
  {
   "cell_type": "code",
   "execution_count": 18,
   "id": "f57cd215-b84c-44fc-9316-666ecb5cead2",
   "metadata": {},
   "outputs": [
    {
     "data": {
      "text/plain": [
       "False"
      ]
     },
     "execution_count": 18,
     "metadata": {},
     "output_type": "execute_result"
    }
   ],
   "source": [
    "cap.isOpened()"
   ]
  },
  {
   "cell_type": "markdown",
   "id": "ed7ec25e-9455-4bfc-867e-b040b8074058",
   "metadata": {},
   "source": [
    "false because camera is not opened, not available"
   ]
  },
  {
   "cell_type": "code",
   "execution_count": null,
   "id": "74feb2da-0791-4c3d-b3ce-e5c7c0f9720f",
   "metadata": {},
   "outputs": [],
   "source": []
  }
 ],
 "metadata": {
  "kernelspec": {
   "display_name": "Python 3 (ipykernel)",
   "language": "python",
   "name": "python3"
  },
  "language_info": {
   "codemirror_mode": {
    "name": "ipython",
    "version": 3
   },
   "file_extension": ".py",
   "mimetype": "text/x-python",
   "name": "python",
   "nbconvert_exporter": "python",
   "pygments_lexer": "ipython3",
   "version": "3.11.7"
  }
 },
 "nbformat": 4,
 "nbformat_minor": 5
}
