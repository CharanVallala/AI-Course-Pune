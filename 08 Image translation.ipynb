{
 "cells": [
  {
   "cell_type": "code",
   "execution_count": 2,
   "id": "92070bf0-d00f-4b58-8934-c384fb1ee506",
   "metadata": {},
   "outputs": [],
   "source": [
    "import cv2\n",
    "import numpy as np\n",
    "import matplotlib.pyplot as plt"
   ]
  },
  {
   "cell_type": "code",
   "execution_count": 5,
   "id": "ffb155cf-afe7-46b0-a330-0b956e871309",
   "metadata": {},
   "outputs": [],
   "source": [
    "image = cv2.imread('images/lenna.png')\n",
    "#store height and width of the image \n",
    "height, width = image.shape[:2]\n",
    "\n",
    "quarter_height,  quarter_width = height/4, width/4\n",
    "\n",
    "T = np.float32([[1,0,quarter_width], [0,1,quarter_height]])\n",
    "\n",
    "#we use warpAffine to transform image using the matrix T\n",
    "img_translation = cv2.warpAffine(image, T, (width,height))"
   ]
  },
  {
   "cell_type": "code",
   "execution_count": 6,
   "id": "ded5fd5c-d02b-4ea0-a6e4-c24b946b7a5b",
   "metadata": {},
   "outputs": [
    {
     "data": {
      "text/plain": [
       "array([[  1.,   0., 128.],\n",
       "       [  0.,   1., 128.]], dtype=float32)"
      ]
     },
     "execution_count": 6,
     "metadata": {},
     "output_type": "execute_result"
    }
   ],
   "source": [
    "T"
   ]
  },
  {
   "cell_type": "code",
   "execution_count": 7,
   "id": "b6fb596f-f7d4-4160-8132-3fb88813d96e",
   "metadata": {},
   "outputs": [],
   "source": [
    "cv2.imshow('Original',image)\n",
    "cv2.imshow('translated',img_translation)\n",
    "cv2.waitKey(0)\n",
    "cv2.destroyAllWindows()"
   ]
  },
  {
   "cell_type": "code",
   "execution_count": 8,
   "id": "dc718225-471b-4527-a1f1-a294c96e8b84",
   "metadata": {},
   "outputs": [
    {
     "name": "stdout",
     "output_type": "stream",
     "text": [
      "Help on built-in function warpAffine:\n",
      "\n",
      "warpAffine(...)\n",
      "    warpAffine(src, M, dsize[, dst[, flags[, borderMode[, borderValue]]]]) -> dst\n",
      "    .   @brief Applies an affine transformation to an image.\n",
      "    .   \n",
      "    .   The function warpAffine transforms the source image using the specified matrix:\n",
      "    .   \n",
      "    .   \\f[\\texttt{dst} (x,y) =  \\texttt{src} ( \\texttt{M} _{11} x +  \\texttt{M} _{12} y +  \\texttt{M} _{13}, \\texttt{M} _{21} x +  \\texttt{M} _{22} y +  \\texttt{M} _{23})\\f]\n",
      "    .   \n",
      "    .   when the flag #WARP_INVERSE_MAP is set. Otherwise, the transformation is first inverted\n",
      "    .   with #invertAffineTransform and then put in the formula above instead of M. The function cannot\n",
      "    .   operate in-place.\n",
      "    .   \n",
      "    .   @param src input image.\n",
      "    .   @param dst output image that has the size dsize and the same type as src .\n",
      "    .   @param M \\f$2\\times 3\\f$ transformation matrix.\n",
      "    .   @param dsize size of the output image.\n",
      "    .   @param flags combination of interpolation methods (see #InterpolationFlags) and the optional\n",
      "    .   flag #WARP_INVERSE_MAP that means that M is the inverse transformation (\n",
      "    .   \\f$\\texttt{dst}\\rightarrow\\texttt{src}\\f$ ).\n",
      "    .   @param borderMode pixel extrapolation method (see #BorderTypes); when\n",
      "    .   borderMode=#BORDER_TRANSPARENT, it means that the pixels in the destination image corresponding to\n",
      "    .   the \"outliers\" in the source image are not modified by the function.\n",
      "    .   @param borderValue value used in case of a constant border; by default, it is 0.\n",
      "    .   \n",
      "    .   @sa  warpPerspective, resize, remap, getRectSubPix, transform\n",
      "\n"
     ]
    }
   ],
   "source": [
    "help(cv2.warpAffine)"
   ]
  },
  {
   "cell_type": "code",
   "execution_count": 9,
   "id": "7497d061-17c8-4b85-bd4a-512692340638",
   "metadata": {},
   "outputs": [],
   "source": [
    "T = np.float32([[1,0,-40], [0,1,-100]])\n",
    "img_translation = cv2.warpAffine(image, T, (width,height))\n",
    "cv2.imshow('Original',image)\n",
    "cv2.imshow('translated',img_translation)\n",
    "cv2.waitKey(0)\n",
    "cv2.destroyAllWindows()"
   ]
  },
  {
   "cell_type": "code",
   "execution_count": null,
   "id": "a599a596-dd21-48b0-bc9c-554b66648105",
   "metadata": {},
   "outputs": [],
   "source": []
  }
 ],
 "metadata": {
  "kernelspec": {
   "display_name": "Python 3 (ipykernel)",
   "language": "python",
   "name": "python3"
  },
  "language_info": {
   "codemirror_mode": {
    "name": "ipython",
    "version": 3
   },
   "file_extension": ".py",
   "mimetype": "text/x-python",
   "name": "python",
   "nbconvert_exporter": "python",
   "pygments_lexer": "ipython3",
   "version": "3.11.7"
  }
 },
 "nbformat": 4,
 "nbformat_minor": 5
}
