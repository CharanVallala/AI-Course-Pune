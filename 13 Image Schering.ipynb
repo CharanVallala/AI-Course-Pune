{
 "cells": [
  {
   "cell_type": "code",
   "execution_count": 1,
   "id": "a38f6242-8915-491d-9655-9bc6f716c101",
   "metadata": {},
   "outputs": [],
   "source": [
    "import cv2\n",
    "import matplotlib.pyplot as plt\n",
    "import numpy as np"
   ]
  },
  {
   "cell_type": "code",
   "execution_count": 5,
   "id": "e5f6a7d0-cf97-4ebc-9a37-025670a70175",
   "metadata": {},
   "outputs": [],
   "source": [
    "img1=cv2.imread('images/lenna.png')\n",
    "#define shearing factor(adjust as needed)\n",
    "shear_x = 0.25 #shear along x axis\n",
    "shear_y = 0.45 #shear along y axis\n",
    "#create transformation mx\n",
    "M = np.array([[1,shear_x,0],\n",
    "              [shear_y,1,0],\n",
    "              [0,0,1]])\n",
    "rows,cols,_ = img1.shape\n",
    "T=np.float32([[1,0,0],[0,1,50]])\n",
    "\n",
    "#we use warpAffine to transform image using matrix,T\n",
    "img_translation =cv2.warpAffine(img1,T,(int(cols*1.5),int(rows*1.5)))\n",
    "sheared_img = cv2.warpPerspective(img_translation,M,(int(cols*1.5),int(rows*1.5)))\n",
    "cv2.imshow('img_translation',img_translation)\n",
    "cv2.imshow('sheared_img',sheared_img)\n",
    "cv2.waitKey(0)\n",
    "cv2.destroyAllWindows()"
   ]
  },
  {
   "cell_type": "code",
   "execution_count": null,
   "id": "0bd4c9b4-792f-4c14-a802-65cfb3397915",
   "metadata": {},
   "outputs": [],
   "source": []
  }
 ],
 "metadata": {
  "kernelspec": {
   "display_name": "Python 3 (ipykernel)",
   "language": "python",
   "name": "python3"
  },
  "language_info": {
   "codemirror_mode": {
    "name": "ipython",
    "version": 3
   },
   "file_extension": ".py",
   "mimetype": "text/x-python",
   "name": "python",
   "nbconvert_exporter": "python",
   "pygments_lexer": "ipython3",
   "version": "3.11.7"
  }
 },
 "nbformat": 4,
 "nbformat_minor": 5
}
