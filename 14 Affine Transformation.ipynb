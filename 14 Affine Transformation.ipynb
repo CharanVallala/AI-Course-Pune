{
 "cells": [
  {
   "cell_type": "code",
   "execution_count": 9,
   "id": "4a87e342-fb3c-4005-a25f-3a5ea4df4367",
   "metadata": {},
   "outputs": [],
   "source": [
    "import cv2\n",
    "import matplotlib.pyplot as plt\n",
    "import numpy as np\n",
    "img=cv2.imread('Images/lenna.png')\n",
    "#define transformation parameters\n",
    "tx = 50\n",
    "ty = 100\n",
    "angle = 45\n",
    "scale = 0.8\n",
    "shear_x = 0.3\n",
    "shear_y = 0.2\n",
    "\n",
    "M = np.float32([[scale*np.cos(np.radians(angle)), shear_x, tx],\n",
    "              [shear_y, scale*np.sin(np.radians(angle)), ty]])\n",
    "\n",
    "img_affine = cv2.warpAffine(img, M, (512,512))             \n",
    "\n",
    "final_img = np.vstack([img_affine,img])\n",
    "\n",
    "cv2.imshow('Affine Transformed Image', final_img)\n",
    "cv2.waitKey(0)\n",
    "cv2.destroyAllWindows()"
   ]
  },
  {
   "cell_type": "code",
   "execution_count": 10,
   "id": "a0af90bb-ac41-4787-91b1-8f85dabd8420",
   "metadata": {},
   "outputs": [],
   "source": [
    "import cv2\n",
    "import matplotlib.pyplot as plt\n",
    "import numpy as np\n",
    "img=cv2.imread('Images/lenna.png')\n",
    "#define transformation parameters\n",
    "tx = 50\n",
    "ty = 100\n",
    "angle = 45\n",
    "scale = 0.8\n",
    "shear_x = 0.3\n",
    "shear_y = 0.2\n",
    "\n",
    "M = np.float32([[scale*np.cos(np.radians(angle)), shear_x, tx],\n",
    "              [shear_y, scale*np.sin(np.radians(angle)), ty]])\n",
    "\n",
    "img_affine = cv2.warpAffine(img, M, (512,512))             \n",
    "\n",
    "final_img = np.hstack([img_affine,img])\n",
    "\n",
    "cv2.imshow('Affine Transformed Image', final_img)\n",
    "cv2.waitKey(0)\n",
    "cv2.destroyAllWindows()\n"
   ]
  },
  {
   "cell_type": "code",
   "execution_count": null,
   "id": "f14b5414-842a-4ab3-bfea-0c873886f8f3",
   "metadata": {},
   "outputs": [],
   "source": []
  }
 ],
 "metadata": {
  "kernelspec": {
   "display_name": "Python 3 (ipykernel)",
   "language": "python",
   "name": "python3"
  },
  "language_info": {
   "codemirror_mode": {
    "name": "ipython",
    "version": 3
   },
   "file_extension": ".py",
   "mimetype": "text/x-python",
   "name": "python",
   "nbconvert_exporter": "python",
   "pygments_lexer": "ipython3",
   "version": "3.11.7"
  }
 },
 "nbformat": 4,
 "nbformat_minor": 5
}
