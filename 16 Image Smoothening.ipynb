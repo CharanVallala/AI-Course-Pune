{
 "cells": [
  {
   "cell_type": "code",
   "execution_count": 1,
   "id": "109662a8-5800-4bc1-aec2-9f544d9e0c4d",
   "metadata": {},
   "outputs": [],
   "source": [
    "import cv2\n",
    "import matplotlib.pyplot as plt\n",
    "import numpy as np\n",
    "img1=cv2.imread('images/lenna.png')\n"
   ]
  },
  {
   "cell_type": "markdown",
   "id": "76e0ea8a-8bb4-42e8-a30c-1b49788847ef",
   "metadata": {},
   "source": [
    "averaging blur"
   ]
  },
  {
   "cell_type": "code",
   "execution_count": 14,
   "id": "51ac5b39-ad59-47e1-b7ec-051c1c53bba9",
   "metadata": {},
   "outputs": [],
   "source": [
    "#define a 3x3 averaging kernel\n",
    "kernel = np.ones((3,3),np.float32)/9\n",
    "#apply kernel to smooth the image\n",
    "smooth_image = cv2.filter2D(img1,-1,kernel)\n",
    "\n",
    "cv2.imshow('original',img1)\n",
    "cv2.imshow('smoothed',smooth_image)\n",
    "cv2.waitKey(0)\n",
    "cv2.destroyAllWindows()"
   ]
  },
  {
   "cell_type": "code",
   "execution_count": 9,
   "id": "0590fefa-4e07-46e3-be9e-ab74692eafb8",
   "metadata": {},
   "outputs": [],
   "source": [
    "#define a 3x3 averaging kernel\n",
    "kernel = np.ones((7,7),np.float32)/9\n",
    "#apply kernel to smooth the image\n",
    "smooth_image = cv2.filter2D(img1,-1,kernel)\n",
    "\n",
    "cv2.imshow('original',img1)\n",
    "cv2.imshow('smoothed',smooth_image)\n",
    "cv2.waitKey(0)\n",
    "cv2.destroyAllWindows()"
   ]
  },
  {
   "cell_type": "markdown",
   "id": "792b8951-1091-49aa-9b34-05836156f4b5",
   "metadata": {},
   "source": [
    "guassian blur"
   ]
  },
  {
   "cell_type": "code",
   "execution_count": 10,
   "id": "977a4f03-1b3a-4d14-8fe8-d325d08b1a45",
   "metadata": {},
   "outputs": [],
   "source": [
    "gray = cv2.imread(\"images/lenna.png\",0)\n",
    "kernel_size = 5 # adjust as needed\n",
    "kernel = cv2.getGaussianKernel(kernel_size,1.25)\n",
    "blurred = cv2.filter2D(gray,-1,kernel) #apply filter"
   ]
  },
  {
   "cell_type": "code",
   "execution_count": 11,
   "id": "fdda4941-0f78-4eb7-8758-bd0c924dbc4b",
   "metadata": {},
   "outputs": [
    {
     "data": {
      "text/plain": [
       "array([[0.09242116],\n",
       "       [0.24137602],\n",
       "       [0.33240563],\n",
       "       [0.24137602],\n",
       "       [0.09242116]])"
      ]
     },
     "execution_count": 11,
     "metadata": {},
     "output_type": "execute_result"
    }
   ],
   "source": [
    "kernel"
   ]
  },
  {
   "cell_type": "code",
   "execution_count": 18,
   "id": "0f60c7e6-cbd0-4732-a056-41f892b65b85",
   "metadata": {},
   "outputs": [],
   "source": [
    "cv2.imshow('gray',gray)\n",
    "cv2.imshow('blurred',blurred)\n",
    "cv2.waitKey(0)\n",
    "cv2.destroyAllWindows()"
   ]
  },
  {
   "cell_type": "code",
   "execution_count": null,
   "id": "e3366336-9129-4747-8844-9cbb6977298d",
   "metadata": {},
   "outputs": [],
   "source": []
  }
 ],
 "metadata": {
  "kernelspec": {
   "display_name": "Python 3 (ipykernel)",
   "language": "python",
   "name": "python3"
  },
  "language_info": {
   "codemirror_mode": {
    "name": "ipython",
    "version": 3
   },
   "file_extension": ".py",
   "mimetype": "text/x-python",
   "name": "python",
   "nbconvert_exporter": "python",
   "pygments_lexer": "ipython3",
   "version": "3.11.7"
  }
 },
 "nbformat": 4,
 "nbformat_minor": 5
}
