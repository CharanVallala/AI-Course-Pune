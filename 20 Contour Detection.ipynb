{
 "cells": [
  {
   "cell_type": "code",
   "execution_count": 3,
   "id": "35eeb34e-e425-4c2d-9b08-215671f87c83",
   "metadata": {},
   "outputs": [],
   "source": [
    "import cv2\n",
    "import matplotlib.pyplot as plt\n",
    "import numpy as np\n",
    "img = cv2.imread('images/circle.png')\n",
    "gray = cv2.cvtColor(img, cv2.COLOR_BGR2GRAY)"
   ]
  },
  {
   "cell_type": "code",
   "execution_count": 5,
   "id": "8a404f6d-3586-45dd-8db7-2a2e232ceb75",
   "metadata": {},
   "outputs": [],
   "source": [
    "#creates a binary  image where pixels above 127 are set to 255(white) and others to 0(black)\n",
    "thresh = cv2.threshold(gray, 127, 255, cv2.THRESH_BINARY)[1]\n",
    "\n",
    "#cv2.findCounters finds contours in binary image\n",
    "#cv2.RETR_TREE retrieves all contours and creates hhierarchy tree\n",
    "#cv2.CHAIN_APPROX_SIMPLE approximates contours to save memory\n",
    "contours, hierarchy = cv2.findContours(thresh, cv2.RETR_TREE, cv2.CHAIN_APPROX_SIMPLE)\n",
    "\n",
    "#-1 draws all contours\n",
    "#(0,255,0) is the color green\n",
    "#2 is the thickness of the lines\n",
    "cv2.drawContours(img, contours, -1, (0,255,0),2)\n",
    "\n",
    "cv2.imshow('original',img)\n",
    "cv2.imshow('Threshold image',thresh)\n",
    "cv2.waitKey(0)\n",
    "cv2.destroyAllWindows()\n"
   ]
  },
  {
   "cell_type": "code",
   "execution_count": 8,
   "id": "dc12e001-a949-46e3-9c71-41088aabab50",
   "metadata": {},
   "outputs": [],
   "source": [
    "img = cv2.imread('images/cat_damaged.png')\n",
    "gray = cv2.cvtColor(img, cv2.COLOR_BGR2GRAY)\n",
    "#creates a binary  image where pixels above 127 are set to 255(white) and others to 0(black)\n",
    "thresh = cv2.threshold(gray, 127, 255, cv2.THRESH_BINARY)[1]\n",
    "\n",
    "#cv2.findCounters finds contours in binary image\n",
    "#cv2.RETR_TREE retrieves all contours and creates hhierarchy tree\n",
    "#cv2.CHAIN_APPROX_SIMPLE approximates contours to save memory\n",
    "contours, hierarchy = cv2.findContours(thresh, cv2.RETR_TREE, cv2.CHAIN_APPROX_SIMPLE)\n",
    "\n",
    "#-1 draws all contours\n",
    "#(0,255,0) is the color green\n",
    "#2 is the thickness of the lines\n",
    "cv2.drawContours(img, contours, -1, (0,255,0),2)\n",
    "\n",
    "cv2.imshow('original',img)\n",
    "cv2.imshow('Threshold image',thresh)\n",
    "cv2.waitKey(0)\n",
    "cv2.destroyAllWindows()\n"
   ]
  },
  {
   "cell_type": "code",
   "execution_count": null,
   "id": "f11aed9b-7427-4ffa-8665-caafd349ba0b",
   "metadata": {},
   "outputs": [],
   "source": []
  }
 ],
 "metadata": {
  "kernelspec": {
   "display_name": "Python 3 (ipykernel)",
   "language": "python",
   "name": "python3"
  },
  "language_info": {
   "codemirror_mode": {
    "name": "ipython",
    "version": 3
   },
   "file_extension": ".py",
   "mimetype": "text/x-python",
   "name": "python",
   "nbconvert_exporter": "python",
   "pygments_lexer": "ipython3",
   "version": "3.11.7"
  }
 },
 "nbformat": 4,
 "nbformat_minor": 5
}
