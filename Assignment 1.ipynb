{
 "cells": [
  {
   "cell_type": "code",
   "execution_count": 2,
   "id": "30644f50-4930-4e1a-a443-ab5ee41554e4",
   "metadata": {},
   "outputs": [],
   "source": [
    "import cv2\n",
    "import matplotlib.pyplot as plt\n",
    "import numpy as np"
   ]
  },
  {
   "cell_type": "code",
   "execution_count": 3,
   "id": "8b1e68ac-6391-4913-9cd3-1c7b1bffed7d",
   "metadata": {},
   "outputs": [],
   "source": [
    "img = cv2.imread('images/sachin.jpg')"
   ]
  },
  {
   "cell_type": "code",
   "execution_count": 4,
   "id": "e7991a90-ce02-4750-8de0-f1f4aa53c3be",
   "metadata": {},
   "outputs": [],
   "source": [
    "cv2.imshow('sachin',img)\n",
    "cv2.waitKey(0)\n",
    "cv2.destroyAllWindows()"
   ]
  },
  {
   "cell_type": "code",
   "execution_count": 5,
   "id": "c2ca1527-a5eb-46a0-baaf-6a617880b5b5",
   "metadata": {},
   "outputs": [
    {
     "data": {
      "text/plain": [
       "2741250"
      ]
     },
     "execution_count": 5,
     "metadata": {},
     "output_type": "execute_result"
    }
   ],
   "source": [
    "img.size"
   ]
  },
  {
   "cell_type": "code",
   "execution_count": 6,
   "id": "fbd5a67a-baf4-42d1-bcf9-0a38c496d842",
   "metadata": {},
   "outputs": [
    {
     "data": {
      "text/plain": [
       "(1075, 850, 3)"
      ]
     },
     "execution_count": 6,
     "metadata": {},
     "output_type": "execute_result"
    }
   ],
   "source": [
    "img.shape"
   ]
  },
  {
   "cell_type": "code",
   "execution_count": null,
   "id": "b305bec0-7d3a-4411-a956-cbd58ebd3a2b",
   "metadata": {},
   "outputs": [],
   "source": []
  }
 ],
 "metadata": {
  "kernelspec": {
   "display_name": "Python 3 (ipykernel)",
   "language": "python",
   "name": "python3"
  },
  "language_info": {
   "codemirror_mode": {
    "name": "ipython",
    "version": 3
   },
   "file_extension": ".py",
   "mimetype": "text/x-python",
   "name": "python",
   "nbconvert_exporter": "python",
   "pygments_lexer": "ipython3",
   "version": "3.11.7"
  }
 },
 "nbformat": 4,
 "nbformat_minor": 5
}
